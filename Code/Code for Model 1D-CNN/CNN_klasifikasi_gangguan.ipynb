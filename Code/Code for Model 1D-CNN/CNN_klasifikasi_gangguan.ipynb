{
  "nbformat": 4,
  "nbformat_minor": 0,
  "metadata": {
    "colab": {
      "name": "CNN klasifikasi gangguan.ipynb",
      "provenance": [],
      "collapsed_sections": []
    },
    "kernelspec": {
      "name": "python3",
      "display_name": "Python 3"
    },
    "language_info": {
      "name": "python"
    }
  },
  "cells": [
    {
      "cell_type": "code",
      "metadata": {
        "colab": {
          "base_uri": "https://localhost:8080/"
        },
        "id": "AlZQiQfPVjb_",
        "outputId": "8b5a8e2c-a90b-4649-f609-fa573f50efa9"
      },
      "source": [
        "pip install scikit-plot"
      ],
      "execution_count": null,
      "outputs": [
        {
          "output_type": "stream",
          "text": [
            "Collecting scikit-plot\n",
            "  Downloading https://files.pythonhosted.org/packages/7c/47/32520e259340c140a4ad27c1b97050dd3254fdc517b1d59974d47037510e/scikit_plot-0.3.7-py3-none-any.whl\n",
            "Requirement already satisfied: joblib>=0.10 in /usr/local/lib/python3.7/dist-packages (from scikit-plot) (1.0.1)\n",
            "Requirement already satisfied: scikit-learn>=0.18 in /usr/local/lib/python3.7/dist-packages (from scikit-plot) (0.22.2.post1)\n",
            "Requirement already satisfied: matplotlib>=1.4.0 in /usr/local/lib/python3.7/dist-packages (from scikit-plot) (3.2.2)\n",
            "Requirement already satisfied: scipy>=0.9 in /usr/local/lib/python3.7/dist-packages (from scikit-plot) (1.4.1)\n",
            "Requirement already satisfied: numpy>=1.11.0 in /usr/local/lib/python3.7/dist-packages (from scikit-learn>=0.18->scikit-plot) (1.19.5)\n",
            "Requirement already satisfied: cycler>=0.10 in /usr/local/lib/python3.7/dist-packages (from matplotlib>=1.4.0->scikit-plot) (0.10.0)\n",
            "Requirement already satisfied: pyparsing!=2.0.4,!=2.1.2,!=2.1.6,>=2.0.1 in /usr/local/lib/python3.7/dist-packages (from matplotlib>=1.4.0->scikit-plot) (2.4.7)\n",
            "Requirement already satisfied: kiwisolver>=1.0.1 in /usr/local/lib/python3.7/dist-packages (from matplotlib>=1.4.0->scikit-plot) (1.3.1)\n",
            "Requirement already satisfied: python-dateutil>=2.1 in /usr/local/lib/python3.7/dist-packages (from matplotlib>=1.4.0->scikit-plot) (2.8.1)\n",
            "Requirement already satisfied: six in /usr/local/lib/python3.7/dist-packages (from cycler>=0.10->matplotlib>=1.4.0->scikit-plot) (1.15.0)\n",
            "Installing collected packages: scikit-plot\n",
            "Successfully installed scikit-plot-0.3.7\n"
          ],
          "name": "stdout"
        }
      ]
    },
    {
      "cell_type": "code",
      "metadata": {
        "colab": {
          "base_uri": "https://localhost:8080/"
        },
        "id": "n1QtzNNbQx4E",
        "outputId": "16be735d-42cf-4eea-dfa2-8cdd2baac1de"
      },
      "source": [
        "pip install neptune-client"
      ],
      "execution_count": null,
      "outputs": [
        {
          "output_type": "stream",
          "text": [
            "Collecting neptune-client\n",
            "\u001b[?25l  Downloading https://files.pythonhosted.org/packages/d3/ad/ddf5f7ca5ba9c8b40b0fde87e65244e19cd7e419567c73ea0277493cff09/neptune-client-0.9.19.tar.gz (236kB)\n",
            "\u001b[K     |████████████████████████████████| 245kB 15.2MB/s \n",
            "\u001b[?25hCollecting bravado\n",
            "  Downloading https://files.pythonhosted.org/packages/21/ed/03b0c36b5bcafbe2938ed222f9a164a6c0367ce99a9d2d502e462853571d/bravado-11.0.3-py2.py3-none-any.whl\n",
            "Requirement already satisfied: click>=7.0 in /usr/local/lib/python3.7/dist-packages (from neptune-client) (7.1.2)\n",
            "Collecting future>=0.17.1\n",
            "\u001b[?25l  Downloading https://files.pythonhosted.org/packages/45/0b/38b06fd9b92dc2b68d58b75f900e97884c45bedd2ff83203d933cf5851c9/future-0.18.2.tar.gz (829kB)\n",
            "\u001b[K     |████████████████████████████████| 829kB 25.2MB/s \n",
            "\u001b[?25hRequirement already satisfied: oauthlib>=2.1.0 in /usr/local/lib/python3.7/dist-packages (from neptune-client) (3.1.1)\n",
            "Requirement already satisfied: pandas in /usr/local/lib/python3.7/dist-packages (from neptune-client) (1.1.5)\n",
            "Requirement already satisfied: Pillow>=1.1.6 in /usr/local/lib/python3.7/dist-packages (from neptune-client) (7.1.2)\n",
            "Collecting PyJWT\n",
            "  Downloading https://files.pythonhosted.org/packages/3f/32/d5d3cab27fee7f6b22d7cd7507547ae45d52e26030fa77d1f83d0526c6e5/PyJWT-2.1.0-py3-none-any.whl\n",
            "Requirement already satisfied: requests>=2.20.0 in /usr/local/lib/python3.7/dist-packages (from neptune-client) (2.23.0)\n",
            "Requirement already satisfied: requests-oauthlib>=1.0.0 in /usr/local/lib/python3.7/dist-packages (from neptune-client) (1.3.0)\n",
            "Requirement already satisfied: six>=1.12.0 in /usr/local/lib/python3.7/dist-packages (from neptune-client) (1.15.0)\n",
            "Collecting websocket-client!=1.0.0,>=0.35.0\n",
            "\u001b[?25l  Downloading https://files.pythonhosted.org/packages/ca/5f/3c211d168b2e9f9342cfb53bcfc26aab0eac63b998015e7af7bcae66119d/websocket_client-1.1.0-py2.py3-none-any.whl (68kB)\n",
            "\u001b[K     |████████████████████████████████| 71kB 7.5MB/s \n",
            "\u001b[?25hCollecting GitPython>=2.0.8\n",
            "\u001b[?25l  Downloading https://files.pythonhosted.org/packages/bc/91/b38c4fabb6e5092ab23492ded4f318ab7299b19263272b703478038c0fbc/GitPython-3.1.18-py3-none-any.whl (170kB)\n",
            "\u001b[K     |████████████████████████████████| 174kB 26.3MB/s \n",
            "\u001b[?25hRequirement already satisfied: packaging in /usr/local/lib/python3.7/dist-packages (from neptune-client) (20.9)\n",
            "Requirement already satisfied: urllib3 in /usr/local/lib/python3.7/dist-packages (from neptune-client) (1.24.3)\n",
            "Requirement already satisfied: pyyaml in /usr/local/lib/python3.7/dist-packages (from bravado->neptune-client) (3.13)\n",
            "Collecting bravado-core>=5.16.1\n",
            "\u001b[?25l  Downloading https://files.pythonhosted.org/packages/76/11/18e9d28a156c33f2d5f15a5e155dc7130250acb0a569255a2b6b307b596d/bravado_core-5.17.0-py2.py3-none-any.whl (67kB)\n",
            "\u001b[K     |████████████████████████████████| 71kB 9.2MB/s \n",
            "\u001b[?25hRequirement already satisfied: msgpack in /usr/local/lib/python3.7/dist-packages (from bravado->neptune-client) (1.0.2)\n",
            "Requirement already satisfied: typing-extensions in /usr/local/lib/python3.7/dist-packages (from bravado->neptune-client) (3.7.4.3)\n",
            "Collecting simplejson\n",
            "\u001b[?25l  Downloading https://files.pythonhosted.org/packages/a8/04/377418ac1e530ce2a196b54c6552c018fdf1fe776718053efb1f216bffcd/simplejson-3.17.2-cp37-cp37m-manylinux2010_x86_64.whl (128kB)\n",
            "\u001b[K     |████████████████████████████████| 133kB 61.8MB/s \n",
            "\u001b[?25hRequirement already satisfied: python-dateutil in /usr/local/lib/python3.7/dist-packages (from bravado->neptune-client) (2.8.1)\n",
            "Collecting monotonic\n",
            "  Downloading https://files.pythonhosted.org/packages/9a/67/7e8406a29b6c45be7af7740456f7f37025f0506ae2e05fb9009a53946860/monotonic-1.6-py2.py3-none-any.whl\n",
            "Requirement already satisfied: numpy>=1.15.4 in /usr/local/lib/python3.7/dist-packages (from pandas->neptune-client) (1.19.5)\n",
            "Requirement already satisfied: pytz>=2017.2 in /usr/local/lib/python3.7/dist-packages (from pandas->neptune-client) (2018.9)\n",
            "Requirement already satisfied: idna<3,>=2.5 in /usr/local/lib/python3.7/dist-packages (from requests>=2.20.0->neptune-client) (2.10)\n",
            "Requirement already satisfied: certifi>=2017.4.17 in /usr/local/lib/python3.7/dist-packages (from requests>=2.20.0->neptune-client) (2021.5.30)\n",
            "Requirement already satisfied: chardet<4,>=3.0.2 in /usr/local/lib/python3.7/dist-packages (from requests>=2.20.0->neptune-client) (3.0.4)\n",
            "Collecting gitdb<5,>=4.0.1\n",
            "\u001b[?25l  Downloading https://files.pythonhosted.org/packages/ea/e8/f414d1a4f0bbc668ed441f74f44c116d9816833a48bf81d22b697090dba8/gitdb-4.0.7-py3-none-any.whl (63kB)\n",
            "\u001b[K     |████████████████████████████████| 71kB 9.6MB/s \n",
            "\u001b[?25hRequirement already satisfied: pyparsing>=2.0.2 in /usr/local/lib/python3.7/dist-packages (from packaging->neptune-client) (2.4.7)\n",
            "Requirement already satisfied: jsonschema[format]>=2.5.1 in /usr/local/lib/python3.7/dist-packages (from bravado-core>=5.16.1->bravado->neptune-client) (2.6.0)\n",
            "Collecting swagger-spec-validator>=2.0.1\n",
            "  Downloading https://files.pythonhosted.org/packages/09/de/e78cefbf5838b434b63a789264b79821cb2267f1498fbed23ef8590133e4/swagger_spec_validator-2.7.3-py2.py3-none-any.whl\n",
            "Collecting jsonref\n",
            "  Downloading https://files.pythonhosted.org/packages/07/92/f8e4ac824b14af77e613984e480fa818397c72d4141fc466decb26752749/jsonref-0.2-py3-none-any.whl\n",
            "Collecting smmap<5,>=3.0.1\n",
            "  Downloading https://files.pythonhosted.org/packages/68/ee/d540eb5e5996eb81c26ceffac6ee49041d473bc5125f2aa995cf51ec1cf1/smmap-4.0.0-py2.py3-none-any.whl\n",
            "Collecting strict-rfc3339; extra == \"format\"\n",
            "  Downloading https://files.pythonhosted.org/packages/56/e4/879ef1dbd6ddea1c77c0078cd59b503368b0456bcca7d063a870ca2119d3/strict-rfc3339-0.7.tar.gz\n",
            "Collecting webcolors; extra == \"format\"\n",
            "  Downloading https://files.pythonhosted.org/packages/12/05/3350559de9714b202e443a9e6312937341bd5f79f4e4f625744295e7dd17/webcolors-1.11.1-py3-none-any.whl\n",
            "Collecting rfc3987; extra == \"format\"\n",
            "  Downloading https://files.pythonhosted.org/packages/65/d4/f7407c3d15d5ac779c3dd34fbbc6ea2090f77bd7dd12f207ccf881551208/rfc3987-1.3.8-py2.py3-none-any.whl\n",
            "Building wheels for collected packages: neptune-client, future, strict-rfc3339\n",
            "  Building wheel for neptune-client (setup.py) ... \u001b[?25l\u001b[?25hdone\n",
            "  Created wheel for neptune-client: filename=neptune_client-0.9.19-py2.py3-none-any.whl size=416637 sha256=0570a2c87d8835a4464a49db375b6e6a0e3301ba9c092e7dbb84435ac0a65b3a\n",
            "  Stored in directory: /root/.cache/pip/wheels/01/b2/c3/fe12aedec3d73a79ec44d601b9c7fb9ed488ba77738b5fdbea\n",
            "  Building wheel for future (setup.py) ... \u001b[?25l\u001b[?25hdone\n",
            "  Created wheel for future: filename=future-0.18.2-cp37-none-any.whl size=491070 sha256=0efad845e98634fdb5347ccbc7aed0ff2afabe0a5572a2a34399e0001e840af7\n",
            "  Stored in directory: /root/.cache/pip/wheels/8b/99/a0/81daf51dcd359a9377b110a8a886b3895921802d2fc1b2397e\n",
            "  Building wheel for strict-rfc3339 (setup.py) ... \u001b[?25l\u001b[?25hdone\n",
            "  Created wheel for strict-rfc3339: filename=strict_rfc3339-0.7-cp37-none-any.whl size=18150 sha256=2a7447daf945e7db5b414c2615e5e5f3d2ad331eab80d2310a23960996eaadf3\n",
            "  Stored in directory: /root/.cache/pip/wheels/bb/af/c9/b6e9fb5f9b2470e4ed2a7241c9ab3a8cdd3bc8555ae02ca2e6\n",
            "Successfully built neptune-client future strict-rfc3339\n",
            "Installing collected packages: swagger-spec-validator, jsonref, simplejson, bravado-core, monotonic, bravado, future, PyJWT, websocket-client, smmap, gitdb, GitPython, neptune-client, strict-rfc3339, webcolors, rfc3987\n",
            "  Found existing installation: future 0.16.0\n",
            "    Uninstalling future-0.16.0:\n",
            "      Successfully uninstalled future-0.16.0\n",
            "Successfully installed GitPython-3.1.18 PyJWT-2.1.0 bravado-11.0.3 bravado-core-5.17.0 future-0.18.2 gitdb-4.0.7 jsonref-0.2 monotonic-1.6 neptune-client-0.9.19 rfc3987-1.3.8 simplejson-3.17.2 smmap-4.0.0 strict-rfc3339-0.7 swagger-spec-validator-2.7.3 webcolors-1.11.1 websocket-client-1.1.0\n"
          ],
          "name": "stdout"
        }
      ]
    },
    {
      "cell_type": "code",
      "metadata": {
        "colab": {
          "base_uri": "https://localhost:8080/"
        },
        "id": "cyhlXeOJvmnz",
        "outputId": "f091c4f8-3d9f-4761-d859-47580115f7be"
      },
      "source": [
        "pip install psutil"
      ],
      "execution_count": null,
      "outputs": [
        {
          "output_type": "stream",
          "text": [
            "Requirement already satisfied: psutil in /usr/local/lib/python3.7/dist-packages (5.4.8)\n"
          ],
          "name": "stdout"
        }
      ]
    },
    {
      "cell_type": "code",
      "metadata": {
        "id": "g2-78nWUROXH"
      },
      "source": [
        "# Import Library yang Diperlukan\n",
        "\n",
        "from numpy import mean\n",
        "from numpy import std\n",
        "from numpy import dstack\n",
        "from pandas import read_csv\n",
        "from matplotlib import pyplot\n",
        "from keras.models import Sequential\n",
        "from keras.layers import Dense\n",
        "from keras.layers import Flatten\n",
        "from keras.layers import Dropout\n",
        "from keras.utils.vis_utils import plot_model\n",
        "from keras.layers.convolutional import Conv1D\n",
        "from keras.layers.convolutional import MaxPooling1D\n",
        "from tensorflow.keras.utils import to_categorical\n",
        "from sklearn.model_selection import train_test_split\n",
        "import tensorflow as tf\n",
        "import datetime\n",
        "import matplotlib.pyplot as plt\n",
        "from tensorflow import keras\n",
        "import neptune.new as neptune\n",
        "from scikitplot.metrics import plot_confusion_matrix, plot_roc\n",
        "from tensorflow.keras.callbacks import Callback\n",
        "import numpy as np\n",
        "from sklearn.metrics import confusion_matrix\n",
        "from sklearn.metrics import classification_report\n",
        "from sklearn.metrics import balanced_accuracy_score\n",
        "from sklearn.metrics import accuracy_score\n",
        "from sklearn.metrics import precision_score\n",
        "from sklearn.metrics import recall_score\n",
        "from sklearn.metrics import f1_score\n",
        "import time"
      ],
      "execution_count": null,
      "outputs": []
    },
    {
      "cell_type": "code",
      "metadata": {
        "id": "Bpef5KwcyxWg"
      },
      "source": [
        "# Fungsi untuk import file dataset\n",
        "\n",
        "def load_file(filename):\n",
        "\tdataframe = read_csv(filename, header=None)\n",
        "\treturn dataframe.values"
      ],
      "execution_count": null,
      "outputs": []
    },
    {
      "cell_type": "code",
      "metadata": {
        "id": "qdvU16okywjv"
      },
      "source": [
        "# Fungsi untuk menggabungkan dataset\n",
        "\n",
        "def load_group(filenames, prefix=''):\n",
        "\tloaded = list()\n",
        "\tfor name in filenames:\n",
        "\t\tdata = load_file(prefix + name)\n",
        "\t\tloaded.append(data)\n",
        "\t# stack group so that features are the 3rd dimension\n",
        "\tloaded = dstack(loaded)\n",
        "\treturn loaded"
      ],
      "execution_count": null,
      "outputs": []
    },
    {
      "cell_type": "code",
      "metadata": {
        "id": "XIDtzyiZyGPb"
      },
      "source": [
        "# Fungsi untuk import dataset\n",
        "\n",
        "def load_dataset_group():\n",
        "  filenames = list()\n",
        "  filenames += ['data Ir.csv']\n",
        "  filenames += ['data Is.csv']\n",
        "  filenames += ['data It.csv']\n",
        "  filenames += ['data In.csv']\n",
        "  filenames += ['data Vr.csv']\n",
        "  filenames += ['data Vs.csv']\n",
        "  filenames += ['data Vt.csv']\n",
        "  # print(filenames)\n",
        "  # load input data\n",
        "  X = load_group(filenames)\n",
        "  # load class output\n",
        "  y = load_file('label.csv')\n",
        "  return X, y"
      ],
      "execution_count": null,
      "outputs": []
    },
    {
      "cell_type": "code",
      "metadata": {
        "id": "1VgB6wo1tM7B"
      },
      "source": [
        "# Fungsi mengambil dataset dan melakukan pembagian dataset\n",
        "\n",
        "def load_dataset():\n",
        "  # load all train\n",
        "  X, y = load_dataset_group()\n",
        "  trainX, testX, trainy, testy = train_test_split(X, y, test_size=0.1, random_state=0)\n",
        "  trainX, valX, trainy, valy = train_test_split(trainX, trainy, test_size=0.25, random_state=0)\n",
        "  \n",
        "  print(trainX.shape, trainy.shape, testX.shape, testy.shape, valX.shape, valy.shape)\n",
        "  #print(testy)\n",
        "  return trainX, trainy, testX, testy, valX, valy"
      ],
      "execution_count": null,
      "outputs": []
    },
    {
      "cell_type": "code",
      "metadata": {
        "id": "zh_YlG2nRYRQ"
      },
      "source": [
        "# Fungsi untuk pelatihan dataset\n",
        "\n",
        "def evaluate_model(trainX, trainy, testX, testy, valX, valy):\n",
        "  \n",
        "  validation_data = valX, valy\n",
        "  test_data = testX, testy\n",
        "\n",
        "  verbose, epochs, batch_size = 1, 500, 0\n",
        "  n_timesteps, n_features, n_outputs = trainX.shape[1], trainX.shape[2], trainy.shape[1]\n",
        "  model = Sequential()\n",
        "  model.add(Conv1D(filters=256, kernel_size=3, activation='relu', input_shape=(n_timesteps,n_features)))\n",
        "  model.add(Conv1D(filters=256, kernel_size=3, activation='relu'))\n",
        "  model.add(Dropout(0.5))\n",
        "  model.add(MaxPooling1D(pool_size=2))\n",
        "  model.add(Flatten())\n",
        "  model.add(Dense(128, activation='relu'))\n",
        "  model.add(Dense(n_outputs, activation='softmax'))\n",
        "  model.compile(loss='categorical_crossentropy', optimizer='adam', metrics=([keras.metrics.Accuracy(name='accuracy', dtype=None),\n",
        "                                                                            keras.metrics.Precision(name='precision'),\n",
        "                                                                            keras.metrics.Recall(name='recall'),\n",
        "                                                                            keras.metrics.CategoricalAccuracy(name=\"categorical_accuracy\", dtype=None)\n",
        "                                                                            ]))\n",
        "  \n",
        "  neptune_logger_val = NeptuneLoggerCallback(model=model, validation_data=validation_data, state=\"validate\")\n",
        "  neptune_logger_test = NeptuneLoggerCallback(model=model, validation_data=test_data, state=\"testing\")\n",
        "  \n",
        "  train_time = time.time()\n",
        "  # fit network\n",
        "  history = model.fit(trainX, trainy, validation_data=validation_data, epochs=epochs, batch_size=batch_size, verbose=verbose, callbacks=neptune_logger_val)\n",
        "  train_t = \"{:.2f}\".format(time.time()- train_time)\n",
        "  run['time/Train Time'].log(train_t)\n",
        "  print(f'Train Time : {train_t} s')\n",
        "\n",
        "  evaluate_time = time.time()\n",
        "  \n",
        "  # evaluate model\n",
        "  accuracy = model.evaluate(testX, testy, batch_size=batch_size, verbose=1, callbacks=neptune_logger_test, return_dict=True )\n",
        "  eval_t = \"{:.2f}\".format(time.time()- evaluate_time)\n",
        "  run['time/Evaluation Time'].log(eval_t)\n",
        "  print(f'Evaluate Time : {eval_t} s')\n",
        "\n",
        "  print(model.summary())\n",
        "  plot_model(model, to_file='model_plot.png', show_shapes=True, show_layer_names=True)\n",
        "  model.save(\"drive/MyDrive/Model/model_112\")\n",
        "\n",
        "\n",
        "  return accuracy"
      ],
      "execution_count": null,
      "outputs": []
    },
    {
      "cell_type": "code",
      "metadata": {
        "colab": {
          "base_uri": "https://localhost:8080/"
        },
        "id": "xEumL2pvO25q",
        "outputId": "d4121e25-0402-4e0f-c757-ac688923da8a"
      },
      "source": [
        "# Menghubungkan colab dan Drive\n",
        "\n",
        "from google.colab import drive\n",
        "drive.mount('/content/drive')"
      ],
      "execution_count": null,
      "outputs": [
        {
          "output_type": "stream",
          "text": [
            "Drive already mounted at /content/drive; to attempt to forcibly remount, call drive.mount(\"/content/drive\", force_remount=True).\n"
          ],
          "name": "stdout"
        }
      ]
    },
    {
      "cell_type": "code",
      "metadata": {
        "id": "US6Pu9bydaZC"
      },
      "source": [
        "#Fungsi logging\n",
        "\n",
        "class NeptuneLoggerCallback(Callback):\n",
        "    # mengambil data yang diperlukan\n",
        "    def __init__(self, model, validation_data, state):\n",
        "        super().__init__()\n",
        "        self.model = model\n",
        "        self.validation_data = validation_data\n",
        "        self.state = state\n",
        "\n",
        "    # berjalan setiap akhir dari epoch\n",
        "    def on_epoch_end(self, epoch, logs={}):\n",
        "        for log_name, log_value in logs.items():\n",
        "          run[f'report_{self.state}/{log_name}'].log(log_value)\n",
        "           \n",
        "        y_pred = np.asarray(self.model.predict(self.validation_data[0]))\n",
        "        y_true = self.validation_data[1]\n",
        "\n",
        "        y_true = np.argmax(y_true, axis=1)\n",
        "        y_pred_class = np.argmax(y_pred, axis=1)\n",
        "        \n",
        "        # membuat confusion matrix\n",
        "        target_names = ['Hubung Singkat', 'Non-System Fault', 'Petir']\n",
        "        fig, ax = plt.subplots(figsize=(16, 12))\n",
        "        plot_confusion_matrix(y_true, y_pred_class, ax=ax)\n",
        "        run[f'report_{self.state}/confusion matrix Validation'].log(fig)\n",
        "\n",
        "        # membuat log  Accuracy, Balance Accuracy, recal, precission, F1\n",
        "        average = ['macro', 'micro', 'weighted']\n",
        "        global bas, asc, prc, rcl, f1s, bac\n",
        "\n",
        "        bas = balanced_accuracy_score(y_true, y_pred_class)\n",
        "        asc = accuracy_score(y_true, y_pred_class)\n",
        "\n",
        "        run[f'report_{self.state}/balanced_accuracy_score'].log(bas)\n",
        "        run[f'report_{self.state}/accuracy_score'].log(asc)\n",
        "\n",
        "        for av in average:\n",
        "          prc = precision_score(y_true, y_pred_class, average=av, zero_division=1)\n",
        "          rcl = recall_score(y_true, y_pred_class, average=av, zero_division=1)\n",
        "          f1s = f1_score(y_true, y_pred_class, average=av, zero_division=1)\n",
        "\n",
        "          run[f'report_{self.state}/precision_score_{av}'].log(prc)\n",
        "          run[f'report_{self.state}/recall_score_{av}'].log(rcl)\n",
        "          run[f'report_{self.state}/f1_score_{av}'].log(f1s)\n",
        "          \n",
        "\n",
        "        bac = classification_report(y_true, y_pred_class, target_names=target_names)\n",
        "        run[f'report_{self.state}/classification_report'].log(bac)\n",
        "        print(\"\")\n",
        "        print(f\"================== validate Report epoch {epoch} ==================\")\n",
        "        print(bac)\n",
        "        print(\"=============================================================\")\n",
        "        print(\"\")\n",
        "\n",
        "    # berjalan setiap akhir testing\n",
        "    def on_test_end(self, logs={}):\n",
        "      if self.state == \"testing\":\n",
        "        for log_name, log_value in logs.items():\n",
        "          run[f'report_{self.state}/{log_name}'].log(log_value)\n",
        "\n",
        "        y_pred = np.asarray(self.model.predict(self.validation_data[0]))\n",
        "        y_true = self.validation_data[1]\n",
        "\n",
        "        y_true = np.argmax(y_true, axis=1)\n",
        "        y_pred_class = np.argmax(y_pred, axis=1)\n",
        "\n",
        "        target_names = ['Hubung Singkat', 'Non-System Fault', 'Petir']\n",
        "        fig, ax = plt.subplots(figsize=(16, 12))\n",
        "        plot_confusion_matrix(y_true, y_pred_class, ax=ax)\n",
        "        run[f'report_{self.state}/confusion matrix testing'].log(fig)\n",
        "\n",
        "        global bac\n",
        "        \n",
        "        bac = classification_report(y_true, y_pred_class, target_names=target_names)\n",
        "        run[f'report_{self.state}/classification_report'].log(bac)\n",
        "        \n",
        "        print(\"\")\n",
        "        print(\"==================== Testing Report =====================\")\n",
        "        print(bac)\n",
        "        print(\"=========================================================\")\n",
        "        print(\"\")"
      ],
      "execution_count": null,
      "outputs": []
    },
    {
      "cell_type": "code",
      "metadata": {
        "id": "L6rRFWPRR9Yl"
      },
      "source": [
        "# Fungsi untuk menjalankan percobaan\n",
        "\n",
        "def run_experiment():\n",
        "  # load data\n",
        "  trainX, trainy, testX, testy, valX, valy = load_dataset()\n",
        "  score = evaluate_model(trainX, trainy, testX, testy, valX, valy)\n",
        "  print(score)"
      ],
      "execution_count": null,
      "outputs": []
    },
    {
      "cell_type": "code",
      "metadata": {
        "id": "aKN2F_6ISA2m",
        "colab": {
          "base_uri": "https://localhost:8080/",
          "height": 1000
        },
        "outputId": "48d92f3c-ea02-47c4-a8f1-487c0f351fd1"
      },
      "source": [
        "# Fungsi logging dan Menjalankan Percobaan\n",
        "\n",
        "run = neptune.init(project='muflihnurfaizi/CNN', \n",
        "                   api_token='eyJhcGlfYWRkcmVzcyI6Imh0dHBzOi8vYXBwLm5lcHR1bmUuYWkiLCJhcGlfdXJsIjoiaHR0cHM6Ly9hcHAubmVwdHVuZS5haSIsImFwaV9rZXkiOiJiMWRhYTU4MS00ZDc5LTQwOTgtYjgxOS04M2UzMzEyZjJkY2UifQ==')\t\n",
        "\n",
        "PARAMS = {'epoch': 500,\n",
        "          'filter': 256,\n",
        "          'kernel': 3,\n",
        "          'pool_size': 2,\n",
        "          'Dropuot': 0.5,\n",
        "          'Dense':128,\n",
        "          'Activation Function 1D': \"relu\",\n",
        "          'Activation Function Dense': \"relu\"\n",
        "          }\n",
        "\n",
        "run['my_params'] = PARAMS\n",
        "\n",
        "run_experiment()\n",
        "run.stop()"
      ],
      "execution_count": null,
      "outputs": []
    }
  ]
}